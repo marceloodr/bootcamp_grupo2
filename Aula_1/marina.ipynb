{
  "nbformat": 4,
  "nbformat_minor": 0,
  "metadata": {
    "colab": {
      "provenance": [],
      "include_colab_link": true
    },
    "kernelspec": {
      "name": "python3",
      "display_name": "Python 3"
    },
    "language_info": {
      "name": "python"
    }
  },
  "cells": [
    {
      "cell_type": "markdown",
      "metadata": {
        "id": "view-in-github",
        "colab_type": "text"
      },
      "source": [
        "<a href=\"https://colab.research.google.com/github/marceloodr/bootcamp_grupo2/blob/main/marina.ipynb\" target=\"_parent\"><img src=\"https://colab.research.google.com/assets/colab-badge.svg\" alt=\"Open In Colab\"/></a>"
      ]
    },
    {
      "cell_type": "code",
      "execution_count": null,
      "metadata": {
        "id": "19oOhqgTF_hb"
      },
      "outputs": [],
      "source": [
        "nome = input('Qual é o seu nome: ')\n",
        "idade = int(input('Qual é a sua idade: '))\n",
        "print(f'Me chamo {nome} e tenho {idade} anos.')"
      ]
    },
    {
      "cell_type": "markdown",
      "source": [
        "editado"
      ],
      "metadata": {
        "id": "M7FvCkSYLezA"
      }
    }
  ]
}