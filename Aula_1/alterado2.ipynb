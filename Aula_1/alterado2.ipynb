{
  "nbformat": 4,
  "nbformat_minor": 0,
  "metadata": {
    "colab": {
      "provenance": [],
      "include_colab_link": true
    },
    "kernelspec": {
      "name": "python3",
      "display_name": "Python 3"
    },
    "language_info": {
      "name": "python"
    }
  },
  "cells": [
    {
      "cell_type": "markdown",
      "metadata": {
        "id": "view-in-github",
        "colab_type": "text"
      },
      "source": [
        "<a href=\"https://colab.research.google.com/github/marceloodr/bootcamp_grupo2/blob/main/alterado2.ipynb\" target=\"_parent\"><img src=\"https://colab.research.google.com/assets/colab-badge.svg\" alt=\"Open In Colab\"/></a>"
      ]
    },
    {
      "cell_type": "code",
      "execution_count": 2,
      "metadata": {
        "id": "Pt5VkBAnGdm5",
        "outputId": "d53b261c-3ed7-4582-f922-da9b2c6fab71",
        "colab": {
          "base_uri": "https://localhost:8080/"
        }
      },
      "outputs": [
        {
          "output_type": "stream",
          "name": "stdout",
          "text": [
            "Oi\n",
            "Tudo bem por aí Tudo bem\n",
            "Tudo bem\n"
          ]
        }
      ],
      "source": [
        "print('Oi')\n",
        "pergunta = input('Tudo bem por aí ')\n",
        "print(f'{pergunta}')"
      ]
    },
    {
      "cell_type": "code",
      "source": [
        "alteracao2 = 'bom dia'\n",
        "print(pergunta,alteracao2)"
      ],
      "metadata": {
        "id": "N2ACrChxLuJ1",
        "outputId": "33750c24-1075-476e-9c60-a32495b68cf3",
        "colab": {
          "base_uri": "https://localhost:8080/"
        }
      },
      "execution_count": 3,
      "outputs": [
        {
          "output_type": "stream",
          "name": "stdout",
          "text": [
            "Tudo bem bom dia\n"
          ]
        }
      ]
    },
    {
      "cell_type": "code",
      "source": [],
      "metadata": {
        "id": "x5DzHWXNM8VA"
      },
      "execution_count": null,
      "outputs": []
    }
  ]
}