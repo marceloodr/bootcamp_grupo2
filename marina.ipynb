{
  "nbformat": 4,
  "nbformat_minor": 0,
  "metadata": {
    "colab": {
      "provenance": []
    },
    "kernelspec": {
      "name": "python3",
      "display_name": "Python 3"
    },
    "language_info": {
      "name": "python"
    }
  },
  "cells": [
    {
      "cell_type": "code",
      "execution_count": null,
      "metadata": {
        "id": "19oOhqgTF_hb"
      },
      "outputs": [],
      "source": [
        "nome = input('Qual é o seu nome: ')\n",
        "idade = int(input('Qual é a sua idade: '))\n",
        "print(f'Me chamo {nome} e tenho {idade} anos.')"
      ]
    }
  ]
}
