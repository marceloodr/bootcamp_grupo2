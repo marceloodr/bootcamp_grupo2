{
  "nbformat": 4,
  "nbformat_minor": 0,
  "metadata": {
    "colab": {
      "provenance": [],
      "include_colab_link": true
    },
    "kernelspec": {
      "name": "python3",
      "display_name": "Python 3"
    },
    "language_info": {
      "name": "python"
    }
  },
  "cells": [
    {
      "cell_type": "markdown",
      "metadata": {
        "id": "view-in-github",
        "colab_type": "text"
      },
      "source": [
        "<a href=\"https://colab.research.google.com/github/marceloodr/bootcamp_grupo2/blob/main/alterado.ipynb\" target=\"_parent\"><img src=\"https://colab.research.google.com/assets/colab-badge.svg\" alt=\"Open In Colab\"/></a>"
      ]
    },
    {
      "cell_type": "code",
      "execution_count": 1,
      "metadata": {
        "id": "Pt5VkBAnGdm5",
        "outputId": "ab87db60-09d2-4e7f-874b-439c8867cf7d",
        "colab": {
          "base_uri": "https://localhost:8080/"
        }
      },
      "outputs": [
        {
          "output_type": "stream",
          "name": "stdout",
          "text": [
            "Oi\n",
            "Tudo bem por aí Tudo\n",
            "Tudo\n"
          ]
        }
      ],
      "source": [
        "print('Oi')\n",
        "pergunta = input('Tudo bem por aí ')\n",
        "print(f'{pergunta}')"
      ]
    },
    {
      "cell_type": "code",
      "source": [],
      "metadata": {
        "id": "N2ACrChxLuJ1"
      },
      "execution_count": null,
      "outputs": []
    }
  ]
}