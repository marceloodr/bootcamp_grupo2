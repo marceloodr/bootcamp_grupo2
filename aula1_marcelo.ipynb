{
  "nbformat": 4,
  "nbformat_minor": 0,
  "metadata": {
    "colab": {
      "provenance": [],
      "authorship_tag": "ABX9TyOaJpVlrE20iGA5xgHMGt3X",
      "include_colab_link": true
    },
    "kernelspec": {
      "name": "python3",
      "display_name": "Python 3"
    },
    "language_info": {
      "name": "python"
    }
  },
  "cells": [
    {
      "cell_type": "markdown",
      "metadata": {
        "id": "view-in-github",
        "colab_type": "text"
      },
      "source": [
        "<a href=\"https://colab.research.google.com/github/marceloodr/bootcamp_grupo2/blob/main/aula1_marcelo.ipynb\" target=\"_parent\"><img src=\"https://colab.research.google.com/assets/colab-badge.svg\" alt=\"Open In Colab\"/></a>"
      ]
    },
    {
      "cell_type": "code",
      "execution_count": 1,
      "metadata": {
        "id": "Pt5VkBAnGdm5",
        "outputId": "1d4c293b-e7f4-4644-efe5-26d5a4ea3e6a",
        "colab": {
          "base_uri": "https://localhost:8080/"
        }
      },
      "outputs": [
        {
          "output_type": "stream",
          "name": "stdout",
          "text": [
            "Olá mundo!\n"
          ]
        }
      ],
      "source": [
        "print('Olá mundo!')"
      ]
    },
    {
      "cell_type": "code",
      "source": [
        "#faça uma pirueta"
      ],
      "metadata": {
        "id": "1-lE9vVTVAcY"
      },
      "execution_count": 2,
      "outputs": []
    },
    {
      "cell_type": "code",
      "source": [
        "#somar\n",
        "print(1+3)\n",
        "\n",
        "#subtrair\n",
        "print(3-1)\n",
        "\n",
        "#multiplicar\n",
        "print(1*3)\n",
        "\n",
        "#dividir\n",
        "print(1/3)\n",
        "\n",
        "#potencializar\n",
        "print(1**3)\n",
        "\n",
        "#resto da divisão\n",
        "print(3%1)"
      ],
      "metadata": {
        "id": "R9MzrRGGVG7-",
        "outputId": "ba531ecc-2140-4595-8b6a-fb96829ae0fa",
        "colab": {
          "base_uri": "https://localhost:8080/"
        }
      },
      "execution_count": 6,
      "outputs": [
        {
          "output_type": "stream",
          "name": "stdout",
          "text": [
            "4\n",
            "2\n",
            "3\n",
            "0.3333333333333333\n",
            "1\n",
            "0\n"
          ]
        }
      ]
    },
    {
      "cell_type": "code",
      "source": [
        "130*(1 + 0.1)**3"
      ],
      "metadata": {
        "id": "yhwZ6LQ_V3zZ",
        "outputId": "7b24d4bd-a43c-48d0-d68a-a894a63f8979",
        "colab": {
          "base_uri": "https://localhost:8080/"
        }
      },
      "execution_count": 7,
      "outputs": [
        {
          "output_type": "execute_result",
          "data": {
            "text/plain": [
              "173.03000000000006"
            ]
          },
          "metadata": {},
          "execution_count": 7
        }
      ]
    },
    {
      "cell_type": "code",
      "source": [
        "print('eu to devendo pro agiota:', 130*(1 + 0.1)**3)"
      ],
      "metadata": {
        "id": "zLXQym60Wjyp",
        "outputId": "7ecf6e31-80e6-407f-93c8-c1589abb15d3",
        "colab": {
          "base_uri": "https://localhost:8080/"
        }
      },
      "execution_count": 8,
      "outputs": [
        {
          "output_type": "stream",
          "name": "stdout",
          "text": [
            "eu to devendo pro agiota: 173.03000000000006\n"
          ]
        }
      ]
    },
    {
      "cell_type": "code",
      "source": [
        "pv = 100\n",
        "i = 0.05\n",
        "t = 3\n",
        "\n",
        "fv = pv*(1+i)**t\n",
        "print(fv)"
      ],
      "metadata": {
        "id": "J-F6Xt0yW6bx",
        "outputId": "c12a47a2-11cc-4193-e2f6-8e029a470419",
        "colab": {
          "base_uri": "https://localhost:8080/"
        }
      },
      "execution_count": 9,
      "outputs": [
        {
          "output_type": "execute_result",
          "data": {
            "text/plain": [
              "115.76250000000002"
            ]
          },
          "metadata": {},
          "execution_count": 9
        }
      ]
    },
    {
      "cell_type": "code",
      "source": [
        "peso = 81\n",
        "altura = 1.8\n",
        "\n",
        "IMC = peso/(altura**2)\n",
        "\n",
        "print(IMC)"
      ],
      "metadata": {
        "id": "MtZV-fz9XpSI",
        "outputId": "8e5e561c-698c-453a-8573-11ecbb82bc64",
        "colab": {
          "base_uri": "https://localhost:8080/"
        }
      },
      "execution_count": 11,
      "outputs": [
        {
          "output_type": "stream",
          "name": "stdout",
          "text": [
            "25.0\n"
          ]
        }
      ]
    },
    {
      "cell_type": "code",
      "source": [
        "inteiro = 1\n",
        "quebrado = 3.5"
      ],
      "metadata": {
        "id": "Vtz0Fe_UYU8s"
      },
      "execution_count": 12,
      "outputs": []
    },
    {
      "cell_type": "code",
      "source": [
        "type(inteiro)"
      ],
      "metadata": {
        "id": "OuGxAhjDberS",
        "outputId": "54a7e837-a55a-4e9f-bfa7-910fd15a32db",
        "colab": {
          "base_uri": "https://localhost:8080/"
        }
      },
      "execution_count": 13,
      "outputs": [
        {
          "output_type": "execute_result",
          "data": {
            "text/plain": [
              "int"
            ]
          },
          "metadata": {},
          "execution_count": 13
        }
      ]
    },
    {
      "cell_type": "code",
      "source": [
        "type(quebrado)"
      ],
      "metadata": {
        "id": "qUz6IfWWbgX0",
        "outputId": "b787853e-927d-48e7-8467-859239e8b7f5",
        "colab": {
          "base_uri": "https://localhost:8080/"
        }
      },
      "execution_count": 14,
      "outputs": [
        {
          "output_type": "execute_result",
          "data": {
            "text/plain": [
              "float"
            ]
          },
          "metadata": {},
          "execution_count": 14
        }
      ]
    },
    {
      "cell_type": "code",
      "source": [
        "texto_1 = 'abc'\n",
        "texto_2 = 'def'\n",
        "\n",
        "texto_1 + texto_2"
      ],
      "metadata": {
        "id": "d9qWFBjdbhqZ",
        "outputId": "d8e1daa8-3177-4d25-e0d7-bfc93c4a318b",
        "colab": {
          "base_uri": "https://localhost:8080/",
          "height": 36
        }
      },
      "execution_count": 15,
      "outputs": [
        {
          "output_type": "execute_result",
          "data": {
            "text/plain": [
              "'abcdef'"
            ],
            "application/vnd.google.colaboratory.intrinsic+json": {
              "type": "string"
            }
          },
          "metadata": {},
          "execution_count": 15
        }
      ]
    },
    {
      "cell_type": "code",
      "source": [
        "'Meu nome é {} e tenho {} anos'.format('Marcelo', 19)"
      ],
      "metadata": {
        "id": "h40ZjfR5cdi6",
        "outputId": "e93af658-5230-414c-d8a0-5a2b7535aab4",
        "colab": {
          "base_uri": "https://localhost:8080/",
          "height": 36
        }
      },
      "execution_count": 16,
      "outputs": [
        {
          "output_type": "execute_result",
          "data": {
            "text/plain": [
              "'Meu nome é Marcelo e tenho 19 anos'"
            ],
            "application/vnd.google.colaboratory.intrinsic+json": {
              "type": "string"
            }
          },
          "metadata": {},
          "execution_count": 16
        }
      ]
    },
    {
      "cell_type": "code",
      "source": [
        "mestrado = True\n",
        "doutorado = False"
      ],
      "metadata": {
        "id": "Ko1MkGzRdFq3"
      },
      "execution_count": 17,
      "outputs": []
    },
    {
      "cell_type": "code",
      "source": [
        "print(mestrado and doutorado)\n",
        "print(mestrado or doutorado)\n",
        "print(not mestrado)"
      ],
      "metadata": {
        "id": "031ep3PzdxmR",
        "outputId": "92cf7131-9f8a-43e5-ce04-40b0a4f6ccf4",
        "colab": {
          "base_uri": "https://localhost:8080/"
        }
      },
      "execution_count": 19,
      "outputs": [
        {
          "output_type": "stream",
          "name": "stdout",
          "text": [
            "False\n",
            "True\n",
            "False\n"
          ]
        }
      ]
    },
    {
      "cell_type": "code",
      "source": [
        "print(4==8)\n",
        "print(8<6)\n",
        "print(8>7)\n",
        "print(8>=8)"
      ],
      "metadata": {
        "id": "xKceETTdd1lv",
        "outputId": "1bf42956-e031-4db5-865a-3d51c9b9027a",
        "colab": {
          "base_uri": "https://localhost:8080/"
        }
      },
      "execution_count": 22,
      "outputs": [
        {
          "output_type": "stream",
          "name": "stdout",
          "text": [
            "False\n",
            "False\n",
            "True\n",
            "True\n"
          ]
        }
      ]
    },
    {
      "cell_type": "code",
      "source": [
        "nome = 'Marcelo'\n",
        "pv = 100\n",
        "i = 0.05\n",
        "t = 3\n",
        "\n",
        "fv = pv*(1+i)**t\n",
        "\n",
        "print('Eu, {}, pagarei daqui {} meses a quantia de {} reais!'.format(nome,t,fv))"
      ],
      "metadata": {
        "id": "Caq43j-we7c4",
        "outputId": "a39e5106-d88e-468c-b4cc-f7163ed928b8",
        "colab": {
          "base_uri": "https://localhost:8080/"
        }
      },
      "execution_count": 24,
      "outputs": [
        {
          "output_type": "stream",
          "name": "stdout",
          "text": [
            "Eu, Marcelo, pagarei daqui 3 meses a quantia de 115.76250000000002 reais!\n"
          ]
        }
      ]
    },
    {
      "cell_type": "code",
      "source": [
        "n = 9\n",
        "if n%2==0:print('Número par')"
      ],
      "metadata": {
        "id": "l345irWEfh-m"
      },
      "execution_count": 26,
      "outputs": []
    },
    {
      "cell_type": "code",
      "source": [
        "temp = 28\n",
        "if temp >= 30: print('TÁ MUITO QUENTE')\n",
        "elif temp <=0: print('TÁ MUITO FRIO')\n",
        "else: print('Tá agradável')"
      ],
      "metadata": {
        "id": "ROimYko7hiPW",
        "outputId": "feb02010-f1b8-4bb3-9b97-ec938f1b4765",
        "colab": {
          "base_uri": "https://localhost:8080/"
        }
      },
      "execution_count": 28,
      "outputs": [
        {
          "output_type": "stream",
          "name": "stdout",
          "text": [
            "Tá agradável\n"
          ]
        }
      ]
    },
    {
      "cell_type": "code",
      "source": [
        "nota = 8.0\n",
        "if nota >= 9.0: print('A')\n",
        "elif nota >= 7.5: print('B')\n",
        "elif nota >= 6.0: print('C')\n",
        "else: print('Reprovado')"
      ],
      "metadata": {
        "id": "QDPJMLsmiUpF",
        "outputId": "8df13ddf-3bf4-40f3-d52c-4ca409094cb8",
        "colab": {
          "base_uri": "https://localhost:8080/"
        }
      },
      "execution_count": 29,
      "outputs": [
        {
          "output_type": "stream",
          "name": "stdout",
          "text": [
            "B\n"
          ]
        }
      ]
    },
    {
      "cell_type": "code",
      "source": [],
      "metadata": {
        "id": "bfik_HqUjhmT"
      },
      "execution_count": null,
      "outputs": []
    }
  ]
}