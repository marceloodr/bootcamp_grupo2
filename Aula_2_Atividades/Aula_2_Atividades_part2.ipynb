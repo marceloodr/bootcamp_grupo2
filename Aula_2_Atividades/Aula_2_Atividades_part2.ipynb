{
  "cells": [
    {
      "cell_type": "markdown",
      "metadata": {
        "id": "view-in-github",
        "colab_type": "text"
      },
      "source": [
        "<a href=\"https://colab.research.google.com/github/marceloodr/bootcamp_grupo2/blob/main/Aula_2_Atividades_part2.ipynb\" target=\"_parent\"><img src=\"https://colab.research.google.com/assets/colab-badge.svg\" alt=\"Open In Colab\"/></a>"
      ]
    },
    {
      "cell_type": "markdown",
      "metadata": {
        "id": "6g_L-PwS_tPa"
      },
      "source": [
        "# Atividades NumPy\n",
        "\n",
        "NumPy é um pacote extremamente interessante e necessário de aprender pois ele é o que está por trás de diversos pacotes mais avançados (alguns que veremos) do Pyhon. Alguns desses pacotes incluem o Pandas, Seaborn, Scikit-Learn e Tensorflow.\n",
        "\n",
        "A seguir serão passadas algumas atividades simples para a fixação do conteúdo."
      ]
    },
    {
      "cell_type": "code",
      "execution_count": null,
      "metadata": {
        "id": "jaMPX9rGEApx"
      },
      "outputs": [],
      "source": [
        "#Rode esse código para usar o numpy, sinta-se livre para alterá-lo.\n",
        "import numpy as np"
      ]
    },
    {
      "cell_type": "markdown",
      "metadata": {
        "id": "5KBF94wnAb1i"
      },
      "source": [
        "## Atividade 1\n",
        "\n",
        "Crie um Array que vá do número 2017 até 2024. Comente qual a principal diferença de um array para uma lista? Printe o tipo do array e o tipo dos elementos do array. Transforme esse array num array bidimensional.\n",
        "\n",
        "Desafio:\n",
        "Mude o tipo dos elementos array para o que ocupe menos memória possível sem alterar os elementos do array."
      ]
    },
    {
      "cell_type": "code",
      "execution_count": null,
      "metadata": {
        "id": "54JsgjI__n_W",
        "outputId": "bf7005d7-b24f-4119-d4aa-f157e669829e"
      },
      "outputs": [
        {
          "name": "stdout",
          "output_type": "stream",
          "text": [
            "[2017 2018 2019 2020 2021 2022 2023 2024]\n",
            "<class 'numpy.ndarray'>\n",
            "<class 'numpy.int32'>\n"
          ]
        }
      ],
      "source": [
        "array1 = np.arange(2017,2025)\n",
        "\n",
        "print(array1)\n",
        "print(type(array1))\n",
        "print(type(array1[0]))"
      ]
    },
    {
      "cell_type": "code",
      "execution_count": null,
      "metadata": {
        "id": "Gn1HmA1M34bw",
        "outputId": "262d8592-92e3-47f8-ae44-2824717a721a"
      },
      "outputs": [
        {
          "name": "stdout",
          "output_type": "stream",
          "text": [
            "[[2017]\n",
            " [2018]\n",
            " [2019]\n",
            " [2020]\n",
            " [2021]\n",
            " [2022]\n",
            " [2023]\n",
            " [2024]]\n"
          ]
        }
      ],
      "source": [
        "array_bidi = array1.reshape(-1,1)\n",
        "print(array_bidi)"
      ]
    },
    {
      "cell_type": "code",
      "execution_count": null,
      "metadata": {
        "id": "Og8_ktXC34bw",
        "outputId": "cfe0b62d-faf5-4b02-bd17-c3d06dbac0bd"
      },
      "outputs": [
        {
          "data": {
            "text/plain": [
              "array([2017, 2018, 2019, 2020, 2021, 2022, 2023, 2024], dtype=uint16)"
            ]
          },
          "execution_count": 90,
          "metadata": {},
          "output_type": "execute_result"
        }
      ],
      "source": [
        "array = array1.astype(np.uint16)\n",
        "array"
      ]
    },
    {
      "cell_type": "markdown",
      "metadata": {
        "id": "2ebMd7pYT-2g"
      },
      "source": [
        "## Atividade 2\n",
        "\n",
        "1.   Crie um array de números aleatórios entre 0 e 10;\n",
        "2.   Defina um valor limite de 0 a 10, por exemplo, 4;\n",
        "3.   Encontre os índices dos elementos maiores do que o valor limite;\n",
        "4.   Acessar os valores dos elementos maiores do que o valor limite;\n",
        "5.   Substitua os valores maiores que o limite por 0.\n",
        "\n"
      ]
    },
    {
      "cell_type": "code",
      "execution_count": null,
      "metadata": {
        "id": "PyL3Sd4CaBKP",
        "outputId": "19df3933-f8f4-4832-bec0-c8d9d8004051"
      },
      "outputs": [
        {
          "data": {
            "text/plain": [
              "array([10,  2,  0,  8,  8,  4,  7, 10,  3,  9,  8,  6, 10,  1,  2,  2,  8,\n",
              "       10,  7, 10, 10,  3,  0,  4, 10,  7,  3,  5,  9,  4,  5,  7,  1,  6,\n",
              "        1,  9,  8,  3,  8, 10,  2,  0,  9,  2,  3,  9,  7,  5,  4,  9])"
            ]
          },
          "execution_count": 91,
          "metadata": {},
          "output_type": "execute_result"
        }
      ],
      "source": [
        "array2 = np.random.randint(0,11,50)\n",
        "array2"
      ]
    },
    {
      "cell_type": "code",
      "execution_count": null,
      "metadata": {
        "id": "P5-Hy_AY34bx",
        "outputId": "75006700-c4e1-49bb-c94c-a5f5147c44e7"
      },
      "outputs": [
        {
          "data": {
            "text/plain": [
              "(array([ 0,  3,  4,  6,  7,  9, 10, 11, 12, 16, 17, 18, 19, 20, 24, 25, 27,\n",
              "        28, 30, 31, 33, 35, 36, 38, 39, 42, 45, 46, 47, 49], dtype=int64),)"
            ]
          },
          "execution_count": 92,
          "metadata": {},
          "output_type": "execute_result"
        }
      ],
      "source": [
        "limite = 4\n",
        "bigger_index = np.where(array2 > limite)\n",
        "bigger_index"
      ]
    },
    {
      "cell_type": "code",
      "execution_count": null,
      "metadata": {
        "id": "3khBiBi834bx",
        "outputId": "68f7c00c-474c-4bc1-d535-3c07a1d84c00"
      },
      "outputs": [
        {
          "data": {
            "text/plain": [
              "array([10,  8,  8,  7, 10,  9,  8,  6, 10,  8, 10,  7, 10, 10, 10,  7,  5,\n",
              "        9,  5,  7,  6,  9,  8,  8, 10,  9,  9,  7,  5,  9])"
            ]
          },
          "execution_count": 93,
          "metadata": {},
          "output_type": "execute_result"
        }
      ],
      "source": [
        "bigger_values = array2[bigger_index]\n",
        "bigger_values"
      ]
    },
    {
      "cell_type": "code",
      "execution_count": null,
      "metadata": {
        "id": "OHx5xIFN34by",
        "outputId": "9844b329-2442-48c3-9c45-ee79220bff7b"
      },
      "outputs": [
        {
          "data": {
            "text/plain": [
              "array([0, 2, 0, 0, 0, 4, 0, 0, 3, 0, 0, 0, 0, 1, 2, 2, 0, 0, 0, 0, 0, 3,\n",
              "       0, 4, 0, 0, 3, 0, 0, 4, 0, 0, 1, 0, 1, 0, 0, 3, 0, 0, 2, 0, 0, 2,\n",
              "       3, 0, 0, 0, 4, 0])"
            ]
          },
          "execution_count": 94,
          "metadata": {},
          "output_type": "execute_result"
        }
      ],
      "source": [
        "array2[array2 > limite] = 0\n",
        "array2"
      ]
    },
    {
      "cell_type": "markdown",
      "metadata": {
        "id": "41XqB18mC3Og"
      },
      "source": [
        "## Atividade 3\n",
        "\n",
        "Foi adicionado uma lista para representar as vendas mensais de três empresas ao longo do ano.\n",
        "\n",
        "\n",
        "1.   Transforme essa lista em Array;\n",
        "2.   Calcule o valor minimo, maximo e medio da lista;\n",
        "3.   Calcule a soma de cada mês e adicione uma coluna com esses resultados;\n",
        "4.   Calcule a média de cada empresa (e da soma) e adicione como linha final;\n",
        "5.   Remova as agregações;\n",
        "6.   Separe o array em 4 arrays de trimestres.\n",
        "7.   Faça as vendas esperadas para o ano seguinte. Espera-se que o primeiro trimestre terá um crescimento de 5%, 15% para o segundo trimestre, queda de 5% para o terceiro trimestre e crescimento de 20% para o último trimestre.\n",
        "8. Junte esses arrays em um novo array, mantendo a separação por trimestre.\n",
        "\n",
        "Desafio: Faça as vendas esperadas através da multiplicação do array de vendas trimestrais pelo array de crescimento. Transforme o array resultante para que ele tenha o mesmo shape do array original.\n",
        "\n",
        "Espera-se Split, Stack, Concatenate e Delete.\n",
        "\n"
      ]
    },
    {
      "cell_type": "code",
      "execution_count": null,
      "metadata": {
        "id": "IL59o9i9EQgw"
      },
      "outputs": [],
      "source": [
        "vendas_mensais= [\n",
        "    [10000, 15000, 20000],  # Janeiro\n",
        "    [11000, 14000, 22000],  # Fevereiro\n",
        "    [12000, 16000, 21000],  # Março\n",
        "    [10500, 15500, 21500],  # Abril\n",
        "    [11500, 14500, 22500],  # Maio\n",
        "    [12500, 16500, 20500],  # Junho\n",
        "    [13000, 17000, 19500],  # Julho\n",
        "    [13500, 17500, 18500],  # Agosto\n",
        "    [14000, 18000, 17500],  # Setembro\n",
        "    [14500, 18500, 16500],  # Outubro\n",
        "    [15000, 19000, 15500],  # Novembro\n",
        "    [15500, 19500, 14500]   # Dezembro\n",
        "]"
      ]
    },
    {
      "cell_type": "markdown",
      "metadata": {
        "id": "BKXS5SVYSqug"
      },
      "source": [
        "## Atividade 4\n",
        "\n",
        "Crie um array com o nome de todos os membros do grupo. Uilize das propriedades do Numpy para deixar todos os nomes em letras maiúsculas."
      ]
    },
    {
      "cell_type": "code",
      "execution_count": null,
      "metadata": {
        "id": "dOVxoUZRaEhe",
        "outputId": "d9ebc185-8bfa-4f3e-f515-178180957161"
      },
      "outputs": [
        {
          "data": {
            "text/plain": [
              "array(['Arthur', 'Isabelle', 'Marcelo', 'Carem', 'Marina'], dtype='<U8')"
            ]
          },
          "execution_count": 95,
          "metadata": {},
          "output_type": "execute_result"
        }
      ],
      "source": [
        "nomes = np.array(['Arthur','Isabelle','Marcelo','Carem','Marina'])\n",
        "nomes"
      ]
    },
    {
      "cell_type": "code",
      "execution_count": null,
      "metadata": {
        "id": "Q_f_SfR634b0",
        "outputId": "22a21c8c-72f6-418c-afde-f062617da5f2"
      },
      "outputs": [
        {
          "data": {
            "text/plain": [
              "array(['ARTHUR', 'ISABELLE', 'MARCELO', 'CAREM', 'MARINA'], dtype='<U8')"
            ]
          },
          "execution_count": 96,
          "metadata": {},
          "output_type": "execute_result"
        }
      ],
      "source": [
        "nomes_maiusculas = np.char.upper(nomes)\n",
        "nomes_maiusculas"
      ]
    },
    {
      "cell_type": "markdown",
      "metadata": {
        "id": "3juf4wWTaEt_"
      },
      "source": [
        "## Atividade 5\n",
        "\n",
        "Considerando manhã = 1 e tarde = 2, concatene o número do turno mais o número do grupo. Defina esse número como a seed. Crie uma sequencia de 10 números aleatorios entre 0 e 1. Calcule quantos desses são maiores que 0.5. Agora crie uma sequencia novamente. Essa sequencia é igual a primeira? Se não, crie uma sequencia \"aleatória\" novamente que tenha os mesmos números da primeira sequência. O que acontece se é repetido o código novamente?"
      ]
    },
    {
      "cell_type": "code",
      "execution_count": 7,
      "metadata": {
        "id": "8NyhDIRAfHg-",
        "colab": {
          "base_uri": "https://localhost:8080/"
        },
        "outputId": "7aa1648b-2119-40db-e978-90fa34b799e7"
      },
      "outputs": [
        {
          "output_type": "stream",
          "name": "stdout",
          "text": [
            "[1 2]\n"
          ]
        }
      ],
      "source": [
        "#concatene o número do turno mais o número do grupo.\n",
        "\n",
        "import numpy as np\n",
        "manha = np.array([1])\n",
        "tarde = np.array([2])\n",
        "grupo = np.array([2])\n",
        "\n",
        "resultado = np.concatenate((manha,grupo))\n",
        "print(resultado)"
      ]
    },
    {
      "cell_type": "code",
      "source": [
        "import random\n",
        "resultado = np.random.seed()\n",
        "\n",
        "numeros_aleatorios = np.random.rand(10)\n",
        "print(numeros_aleatorios)"
      ],
      "metadata": {
        "colab": {
          "base_uri": "https://localhost:8080/"
        },
        "id": "EAczvgj37XBR",
        "outputId": "92b31ed8-6c8f-4f4d-cca8-998c62ab44af"
      },
      "execution_count": 10,
      "outputs": [
        {
          "output_type": "stream",
          "name": "stdout",
          "text": [
            "[0.30618193 0.03079115 0.66344919 0.75723763 0.38335755 0.44831024\n",
            " 0.39033448 0.4761527  0.93991985 0.41231552]\n"
          ]
        }
      ]
    },
    {
      "cell_type": "code",
      "source": [
        "maiores = numeros_aleatorios[numeros_aleatorios > 0.5]\n",
        "quantidade = len(maiores)\n",
        "print(maiores)\n",
        "print(quantidade)"
      ],
      "metadata": {
        "colab": {
          "base_uri": "https://localhost:8080/"
        },
        "id": "IBWHQRow8slx",
        "outputId": "e267b8fa-f60e-411f-f8d3-6339a7fe4c97"
      },
      "execution_count": 13,
      "outputs": [
        {
          "output_type": "stream",
          "name": "stdout",
          "text": [
            "[0.66344919 0.75723763 0.93991985]\n",
            "3\n"
          ]
        }
      ]
    },
    {
      "cell_type": "code",
      "source": [
        "sequencia = np.random.rand(10)\n",
        "print(sequencia)"
      ],
      "metadata": {
        "colab": {
          "base_uri": "https://localhost:8080/"
        },
        "id": "OgKhvlDt9QIn",
        "outputId": "bfcf1c41-1f91-439e-af4a-a9e413f68cf8"
      },
      "execution_count": 14,
      "outputs": [
        {
          "output_type": "stream",
          "name": "stdout",
          "text": [
            "[0.24322389 0.53917532 0.02820947 0.83860761 0.45734924 0.17055789\n",
            " 0.06846099 0.50014049 0.24152062 0.13817821]\n"
          ]
        }
      ]
    }
  ],
  "metadata": {
    "colab": {
      "provenance": [],
      "include_colab_link": true
    },
    "kernelspec": {
      "display_name": "Python 3",
      "name": "python3"
    },
    "language_info": {
      "codemirror_mode": {
        "name": "ipython",
        "version": 3
      },
      "file_extension": ".py",
      "mimetype": "text/x-python",
      "name": "python",
      "nbconvert_exporter": "python",
      "pygments_lexer": "ipython3",
      "version": "3.11.5"
    }
  },
  "nbformat": 4,
  "nbformat_minor": 0
}