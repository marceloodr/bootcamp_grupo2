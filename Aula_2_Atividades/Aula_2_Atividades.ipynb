{
  "cells": [
    {
      "cell_type": "markdown",
      "metadata": {
        "id": "6g_L-PwS_tPa"
      },
      "source": [
        "# Atividades NumPy\n",
        "\n",
        "NumPy é um pacote extremamente interessante e necessário de aprender pois ele é o que está por trás de diversos pacotes mais avançados (alguns que veremos) do Pyhon. Alguns desses pacotes incluem o Pandas, Seaborn, Scikit-Learn e Tensorflow.\n",
        "\n",
        "A seguir serão passadas algumas atividades simples para a fixação do conteúdo."
      ]
    },
    {
      "cell_type": "code",
      "execution_count": 87,
      "metadata": {
        "id": "jaMPX9rGEApx"
      },
      "outputs": [],
      "source": [
        "#Rode esse código para usar o numpy, sinta-se livre para alterá-lo.\n",
        "import numpy as np"
      ]
    },
    {
      "cell_type": "markdown",
      "metadata": {
        "id": "5KBF94wnAb1i"
      },
      "source": [
        "## Atividade 1\n",
        "\n",
        "Crie um Array que vá do número 2017 até 2024. Comente qual a principal diferença de um array para uma lista? Printe o tipo do array e o tipo dos elementos do array. Transforme esse array num array bidimensional.\n",
        "\n",
        "Desafio:\n",
        "Mude o tipo dos elementos array para o que ocupe menos memória possível sem alterar os elementos do array."
      ]
    },
    {
      "cell_type": "code",
      "execution_count": 88,
      "metadata": {
        "id": "54JsgjI__n_W"
      },
      "outputs": [
        {
          "name": "stdout",
          "output_type": "stream",
          "text": [
            "[2017 2018 2019 2020 2021 2022 2023 2024]\n",
            "<class 'numpy.ndarray'>\n",
            "<class 'numpy.int32'>\n"
          ]
        }
      ],
      "source": [
        "array1 = np.arange(2017,2025)\n",
        "\n",
        "print(array1)\n",
        "print(type(array1))\n",
        "print(type(array1[0]))"
      ]
    },
    {
      "cell_type": "code",
      "execution_count": 89,
      "metadata": {},
      "outputs": [
        {
          "name": "stdout",
          "output_type": "stream",
          "text": [
            "[[2017]\n",
            " [2018]\n",
            " [2019]\n",
            " [2020]\n",
            " [2021]\n",
            " [2022]\n",
            " [2023]\n",
            " [2024]]\n"
          ]
        }
      ],
      "source": [
        "array_bidi = array1.reshape(-1,1)\n",
        "print(array_bidi)"
      ]
    },
    {
      "cell_type": "code",
      "execution_count": 90,
      "metadata": {},
      "outputs": [
        {
          "data": {
            "text/plain": [
              "array([2017, 2018, 2019, 2020, 2021, 2022, 2023, 2024], dtype=uint16)"
            ]
          },
          "execution_count": 90,
          "metadata": {},
          "output_type": "execute_result"
        }
      ],
      "source": [
        "array = array1.astype(np.uint16)\n",
        "array"
      ]
    },
    {
      "cell_type": "markdown",
      "metadata": {
        "id": "2ebMd7pYT-2g"
      },
      "source": [
        "## Atividade 2\n",
        "\n",
        "1.   Crie um array de números aleatórios entre 0 e 10;\n",
        "2.   Defina um valor limite de 0 a 10, por exemplo, 4;\n",
        "3.   Encontre os índices dos elementos maiores do que o valor limite;\n",
        "4.   Acessar os valores dos elementos maiores do que o valor limite;\n",
        "5.   Substitua os valores maiores que o limite por 0.\n",
        "\n"
      ]
    },
    {
      "cell_type": "code",
      "execution_count": 91,
      "metadata": {
        "id": "PyL3Sd4CaBKP"
      },
      "outputs": [
        {
          "data": {
            "text/plain": [
              "array([10,  2,  0,  8,  8,  4,  7, 10,  3,  9,  8,  6, 10,  1,  2,  2,  8,\n",
              "       10,  7, 10, 10,  3,  0,  4, 10,  7,  3,  5,  9,  4,  5,  7,  1,  6,\n",
              "        1,  9,  8,  3,  8, 10,  2,  0,  9,  2,  3,  9,  7,  5,  4,  9])"
            ]
          },
          "execution_count": 91,
          "metadata": {},
          "output_type": "execute_result"
        }
      ],
      "source": [
        "array2 = np.random.randint(0,11,50)\n",
        "array2"
      ]
    },
    {
      "cell_type": "code",
      "execution_count": 92,
      "metadata": {},
      "outputs": [
        {
          "data": {
            "text/plain": [
              "(array([ 0,  3,  4,  6,  7,  9, 10, 11, 12, 16, 17, 18, 19, 20, 24, 25, 27,\n",
              "        28, 30, 31, 33, 35, 36, 38, 39, 42, 45, 46, 47, 49], dtype=int64),)"
            ]
          },
          "execution_count": 92,
          "metadata": {},
          "output_type": "execute_result"
        }
      ],
      "source": [
        "limite = 4\n",
        "bigger_index = np.where(array2 > limite)\n",
        "bigger_index"
      ]
    },
    {
      "cell_type": "code",
      "execution_count": 93,
      "metadata": {},
      "outputs": [
        {
          "data": {
            "text/plain": [
              "array([10,  8,  8,  7, 10,  9,  8,  6, 10,  8, 10,  7, 10, 10, 10,  7,  5,\n",
              "        9,  5,  7,  6,  9,  8,  8, 10,  9,  9,  7,  5,  9])"
            ]
          },
          "execution_count": 93,
          "metadata": {},
          "output_type": "execute_result"
        }
      ],
      "source": [
        "bigger_values = array2[bigger_index]\n",
        "bigger_values"
      ]
    },
    {
      "cell_type": "code",
      "execution_count": 94,
      "metadata": {},
      "outputs": [
        {
          "data": {
            "text/plain": [
              "array([0, 2, 0, 0, 0, 4, 0, 0, 3, 0, 0, 0, 0, 1, 2, 2, 0, 0, 0, 0, 0, 3,\n",
              "       0, 4, 0, 0, 3, 0, 0, 4, 0, 0, 1, 0, 1, 0, 0, 3, 0, 0, 2, 0, 0, 2,\n",
              "       3, 0, 0, 0, 4, 0])"
            ]
          },
          "execution_count": 94,
          "metadata": {},
          "output_type": "execute_result"
        }
      ],
      "source": [
        "array2[array2 > limite] = 0\n",
        "array2"
      ]
    },
    {
      "cell_type": "markdown",
      "metadata": {
        "id": "41XqB18mC3Og"
      },
      "source": [
        "## Atividade 3\n",
        "\n",
        "Foi adicionado uma lista para representar as vendas mensais de três empresas ao longo do ano.\n",
        "\n",
        "\n",
        "1.   Transforme essa lista em Array;\n",
        "2.   Calcule o valor minimo, maximo e medio da lista;\n",
        "3.   Calcule a soma de cada mês e adicione uma coluna com esses resultados;\n",
        "4.   Calcule a média de cada empresa (e da soma) e adicione como linha final;\n",
        "5.   Remova as agregações;\n",
        "6.   Separe o array em 4 arrays de trimestres.\n",
        "7.   Faça as vendas esperadas para o ano seguinte. Espera-se que o primeiro trimestre terá um crescimento de 5%, 15% para o segundo trimestre, queda de 5% para o terceiro trimestre e crescimento de 20% para o último trimestre.\n",
        "8. Junte esses arrays em um novo array, mantendo a separação por trimestre.\n",
        "\n",
        "Desafio: Faça as vendas esperadas através da multiplicação do array de vendas trimestrais pelo array de crescimento. Transforme o array resultante para que ele tenha o mesmo shape do array original.\n",
        "\n",
        "Espera-se Split, Stack, Concatenate e Delete.\n",
        "\n"
      ]
    },
    {
      "cell_type": "code",
      "execution_count": 77,
      "metadata": {
        "id": "IL59o9i9EQgw"
      },
      "outputs": [],
      "source": [
        "vendas_mensais= [\n",
        "    [10000, 15000, 20000],  # Janeiro\n",
        "    [11000, 14000, 22000],  # Fevereiro\n",
        "    [12000, 16000, 21000],  # Março\n",
        "    [10500, 15500, 21500],  # Abril\n",
        "    [11500, 14500, 22500],  # Maio\n",
        "    [12500, 16500, 20500],  # Junho\n",
        "    [13000, 17000, 19500],  # Julho\n",
        "    [13500, 17500, 18500],  # Agosto\n",
        "    [14000, 18000, 17500],  # Setembro\n",
        "    [14500, 18500, 16500],  # Outubro\n",
        "    [15000, 19000, 15500],  # Novembro\n",
        "    [15500, 19500, 14500]   # Dezembro\n",
        "]"
      ]
    },
    {
      "cell_type": "markdown",
      "metadata": {
        "id": "BKXS5SVYSqug"
      },
      "source": [
        "## Atividade 4\n",
        "\n",
        "Crie um array com o nome de todos os membros do grupo. Uilize das propriedades do Numpy para deixar todos os nomes em letras maiúsculas."
      ]
    },
    {
      "cell_type": "code",
      "execution_count": 95,
      "metadata": {
        "id": "dOVxoUZRaEhe"
      },
      "outputs": [
        {
          "data": {
            "text/plain": [
              "array(['Arthur', 'Isabelle', 'Marcelo', 'Carem', 'Marina'], dtype='<U8')"
            ]
          },
          "execution_count": 95,
          "metadata": {},
          "output_type": "execute_result"
        }
      ],
      "source": [
        "nomes = np.array(['Arthur','Isabelle','Marcelo','Carem','Marina'])\n",
        "nomes"
      ]
    },
    {
      "cell_type": "code",
      "execution_count": 96,
      "metadata": {},
      "outputs": [
        {
          "data": {
            "text/plain": [
              "array(['ARTHUR', 'ISABELLE', 'MARCELO', 'CAREM', 'MARINA'], dtype='<U8')"
            ]
          },
          "execution_count": 96,
          "metadata": {},
          "output_type": "execute_result"
        }
      ],
      "source": [
        "nomes_maiusculas = np.char.upper(nomes)\n",
        "nomes_maiusculas"
      ]
    },
    {
      "cell_type": "markdown",
      "metadata": {
        "id": "3juf4wWTaEt_"
      },
      "source": [
        "## Atividade 5\n",
        "\n",
        "Considerando manhã = 1 e tarde = 2, concatene o número do turno mais o número do grupo. Defina esse número como a seed. Crie uma sequencia de 10 números aleatorios entre 0 e 1. Calcule quantos desses são maiores que 0.5. Agora crie uma sequencia novamente. Essa sequencia é igual a primeira? Se não, crie uma sequencia \"aleatória\" novamente que tenha os mesmos números da primeira sequência. O que acontece se é repetido o código novamente?"
      ]
    },
    {
      "cell_type": "code",
      "execution_count": null,
      "metadata": {
        "id": "8NyhDIRAfHg-"
      },
      "outputs": [],
      "source": []
    }
  ],
  "metadata": {
    "colab": {
      "provenance": []
    },
    "kernelspec": {
      "display_name": "Python 3",
      "name": "python3"
    },
    "language_info": {
      "codemirror_mode": {
        "name": "ipython",
        "version": 3
      },
      "file_extension": ".py",
      "mimetype": "text/x-python",
      "name": "python",
      "nbconvert_exporter": "python",
      "pygments_lexer": "ipython3",
      "version": "3.11.5"
    }
  },
  "nbformat": 4,
  "nbformat_minor": 0
}
